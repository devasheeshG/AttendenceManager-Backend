{
 "cells": [
  {
   "cell_type": "code",
   "execution_count": null,
   "metadata": {},
   "outputs": [],
   "source": [
    "import requests\n",
    "from IPython.display import display, HTML\n",
    "from IPython.display import Image\n",
    "from PIL import Image as PILImage\n",
    "from io import BytesIO, StringIO\n",
    "import bs4\n",
    "import pandas as pd\n",
    "import pytesseract\n"
   ]
  },
  {
   "cell_type": "code",
   "execution_count": null,
   "metadata": {},
   "outputs": [],
   "source": [
    "session = requests.Session()\n",
    "\n",
    "headers = {\n",
    "    'User-Agent': 'Mozilla/5.0 (Windows NT 10.0; Win64; x64; rv:122.0) Gecko/20100101 Firefox/122.0',\n",
    "}\n"
   ]
  },
  {
   "cell_type": "markdown",
   "metadata": {},
   "source": [
    "## Login Page"
   ]
  },
  {
   "cell_type": "code",
   "execution_count": null,
   "metadata": {},
   "outputs": [],
   "source": [
    "SRM_STUDENT_PORTAL_URI = 'https://sp.srmist.edu.in/srmiststudentportal/students/loginManager/youLogin.jsp'\n",
    "\n",
    "response = session.get(\n",
    "    'https://sp.srmist.edu.in/srmiststudentportal/students/loginManager/youLogin.jsp',\n",
    "    headers=headers,\n",
    ")\n",
    "\n",
    "# session.cookies\n"
   ]
  },
  {
   "cell_type": "code",
   "execution_count": null,
   "metadata": {},
   "outputs": [],
   "source": [
    "SRM_STUDENT_PORTAL_GET_CAPTCHA_URI = 'https://sp.srmist.edu.in/srmiststudentportal/captchas'\n",
    "\n",
    "response = session.get(\n",
    "    SRM_STUDENT_PORTAL_GET_CAPTCHA_URI,\n",
    "    headers=headers,\n",
    ")\n",
    "\n",
    "capcha_bin = response.content\n",
    "capcha_text = pytesseract.image_to_string(PILImage.open(BytesIO(capcha_bin))).strip()\n",
    "\n",
    "# print(f'Capcha: {capcha_text}')\n",
    "# display(Image(data=capcha_bin))\n"
   ]
  },
  {
   "cell_type": "code",
   "execution_count": null,
   "metadata": {},
   "outputs": [],
   "source": [
    "data = {\n",
    "    'txtPageAction': '1',\n",
    "    'txtSK': '**',\n",
    "    'txtAN': '**',\n",
    "    'hdnCaptcha': capcha_text,\n",
    "}\n",
    "\n",
    "session.post(\n",
    "    SRM_STUDENT_PORTAL_URI,\n",
    "    data=data,\n",
    ").text.find('Login Error : Invalid net id or password')\n"
   ]
  },
  {
   "cell_type": "markdown",
   "metadata": {},
   "source": [
    "## Attendance"
   ]
  },
  {
   "cell_type": "code",
   "execution_count": null,
   "metadata": {},
   "outputs": [],
   "source": [
    "ATTENDENCE_PAGE_URI = 'https://sp.srmist.edu.in/srmiststudentportal/students/report/studentAttendanceDetails.jsp'\n",
    "\n",
    "response = session.post(\n",
    "    ATTENDENCE_PAGE_URI,\n",
    ")\n"
   ]
  },
  {
   "cell_type": "code",
   "execution_count": null,
   "metadata": {},
   "outputs": [],
   "source": [
    "soup = bs4.BeautifulSoup(response.text, 'html.parser')\n",
    "table = soup.findAll('table', class_='table')[0]\n",
    "\n",
    "df = pd.read_html(StringIO(str(table)))[0]\n",
    "\n",
    "# Remove rows whoose `Code` matches below list\n",
    "code_blacklist = ['CL', 'Total']\n",
    "df = df[~df['Code'].isin(code_blacklist)]\n",
    "df\n"
   ]
  },
  {
   "cell_type": "code",
   "execution_count": null,
   "metadata": {},
   "outputs": [],
   "source": [
    "soup = bs4.BeautifulSoup(response.text, 'html.parser')\n",
    "table = soup.findAll('table', class_='table')[1]\n",
    "\n",
    "df = pd.read_html(StringIO(str(table)))[0]\n",
    "# month_map = {'JAN': 1, 'FEB': 2,'MAR': 3, 'APR': 4, 'MAY': 5, 'JUN': 6, 'JUL': 7, 'AUG': 8, 'SEP': 9, 'OCT': 10, 'NOV': 11, 'DEC': 12}\n",
    "# Extracting the month and year where there are entries\n",
    "months_years = []\n",
    "for index, row in df.iterrows():\n",
    "    month, year = row['Month / Year'].split(' / ')\n",
    "    if row[['Present', 'Absent']].sum() > 0:\n",
    "        months_years.append([int(year), pd.to_datetime(month, format='%b').month])\n",
    "\n",
    "print(months_years)\n"
   ]
  },
  {
   "cell_type": "code",
   "execution_count": null,
   "metadata": {},
   "outputs": [],
   "source": [
    "df = pd.read_html(StringIO(str(table)))[0]\n",
    "for index, row in df.iterrows():\n",
    "    mon, year = row['Month / Year'].split(' / ')\n",
    "    print(mon, year)\n"
   ]
  },
  {
   "cell_type": "code",
   "execution_count": null,
   "metadata": {},
   "outputs": [],
   "source": [
    "MONTHLY_ATTENDENCE_PAGE_URI = 'https://sp.srmist.edu.in/srmiststudentportal/students/report/studentAttendanceDetailsInner.jsp'\n",
    "response = session.post(\n",
    "    MONTHLY_ATTENDENCE_PAGE_URI,\n",
    "    data={'ids': 1, 'attendanceMonth': 1, 'attendanceYear': 2024},\n",
    ")\n",
    "lst = []\n",
    "import ast\n",
    "df = pd.read_html(StringIO(str(response.text)))[0]\n",
    "lst.extend(ast.literal_eval(df.to_json(index=False, orient='records')))\n",
    "lst\n"
   ]
  },
  {
   "cell_type": "markdown",
   "metadata": {},
   "source": [
    "## Timetable"
   ]
  },
  {
   "cell_type": "code",
   "execution_count": null,
   "metadata": {},
   "outputs": [],
   "source": [
    "response = session.post(\n",
    "    'https://sp.srmist.edu.in/srmiststudentportal/students/report/studentTimeTableDetails.jsp',\n",
    ")\n",
    "soup = bs4.BeautifulSoup(response.text, 'html.parser')\n",
    "timetable, legends = soup.findAll('table', class_='table')\n",
    "timetable = pd.read_html(StringIO(str(timetable)))[0]\n",
    "legends = pd.read_html(StringIO(str(legends)))[0]\n",
    "\n",
    "# Clean the timetable dataframe\n",
    "timetable.replace('-', pd.NA, inplace=True)\n",
    "timetable.columns = timetable.columns.droplevel(0)\n",
    "timetable.rename(columns={'Day order': 'Day'}, inplace=True)\n",
    "\n",
    "# Clean the legends dataframe\n",
    "legends.rename(columns={'Code': 'SubCode', 'Description': 'SubName'}, inplace=True)\n",
    "\n",
    "# Create a map of subject name to subject code\n",
    "sub_map = {data['SubCode'].strip(): data['SubName'].strip() for data in legends.to_dict(orient='records')}\n",
    "\n",
    "# Replace the subject name with subject code in the timetable dataframe\n",
    "for idx, row in timetable.iterrows():\n",
    "    for col in timetable.columns:\n",
    "        # If there is a single subject code in the cell\n",
    "        if row[col] in sub_map:\n",
    "            timetable.at[idx, col] = sub_map[row[col]]\n",
    "        \n",
    "        # For electives where there are multiple subject codes\n",
    "        elif isinstance(row[col], str) and len(row[col].split(' ')) > 1:\n",
    "            sub_codes = row[col].split(' ')\n",
    "            sub_names = [sub_map[sub_code] for sub_code in sub_codes]\n",
    "            timetable.at[idx, col] = ' / '.join(sub_names)\n",
    "\n",
    "class_time = ['Day', '9:20-10:10', '10:10-11:00', '11:10-12:00', '12:00-12:50', '2:00-2:50', '2:50-3:40', '3:40-4:30']\n",
    "\n",
    "timetable.drop('04:00-04:50', axis=1, inplace=True)\n",
    "timetable.columns = class_time\n",
    "timetable.drop(5, inplace=True)\n",
    "\n",
    "new_timetable = {}\n",
    "for item in timetable.to_dict(orient='records'):\n",
    "    day = ''\n",
    "    for key, value in item.items():\n",
    "        if key == 'Day':\n",
    "            day = value\n",
    "            new_timetable[day] = {}\n",
    "        else:\n",
    "            new_timetable[day][key] = value\n",
    "new_timetable\n"
   ]
  },
  {
   "cell_type": "markdown",
   "metadata": {},
   "source": [
    "## Benchmarks"
   ]
  },
  {
   "cell_type": "code",
   "execution_count": null,
   "metadata": {},
   "outputs": [],
   "source": [
    "# import requests\n",
    "# url = \"http://127.0.0.1:8000/get_attendance_details\"\n",
    "# payload = {'username': 'dm0359', 'password': 'Mymail@06'}\n"
   ]
  },
  {
   "cell_type": "code",
   "execution_count": null,
   "metadata": {},
   "outputs": [],
   "source": [
    "# %%timeit -n 1 -r 20\n",
    "# response = requests.request(\"POST\", url, data=payload)\n"
   ]
  }
 ],
 "metadata": {
  "kernelspec": {
   "display_name": "function_call_generator",
   "language": "python",
   "name": "python3"
  },
  "language_info": {
   "codemirror_mode": {
    "name": "ipython",
    "version": 3
   },
   "file_extension": ".py",
   "mimetype": "text/x-python",
   "name": "python",
   "nbconvert_exporter": "python",
   "pygments_lexer": "ipython3",
   "version": "3.12.0"
  }
 },
 "nbformat": 4,
 "nbformat_minor": 2
}
